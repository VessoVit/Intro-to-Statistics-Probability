{
 "cells": [
  {
   "cell_type": "markdown",
   "metadata": {
    "deletable": true,
    "editable": true
   },
   "source": [
    "# Fundamentals\n",
    "\n",
    "\n",
    "- __Population__: Set of Objects, Indivisuals or events\n",
    "    - All students in a university\n",
    "    - Otcomes of an Experiment\n",
    "    \n",
    "- __Variable__: Characteristic of an individual object\n",
    "    - Body length \n",
    "    - Gender\n",
    " \n",
    "- __Sample__: Subset of objects of a population\n",
    "    - Students taking a class\n",
    "    - Respondents to a poll\n",
    "    \n",
    "    \n",
    "- __Data__: Values of the variables of objects in a sample\n",
    "    - Two type: __Qualitative and Quantitative__\n",
    "       - _Quantitative data_: Numbers\n",
    "            - Discrete (Integers e.g.)\n",
    "            - Continuous (real numbers)\n",
    "       - _Qualitative data_: Categories, classes\n",
    "            - Gender, color, suceess/fail\n",
    "            \n",
    "            \n",
    "Frequency in samples\n",
    "\n",
    "- consider a sample with n observation of quantitative variable\n",
    "- __Frequency__ of a value is Number of observation with that value\n",
    "- __Relative__ frequency of a value: Frequency devided by number of observatinos (n)\n",
    "- __Distribution__ of a sample values: All observed values and their relative frequency.\n",
    "\n",
    "more general:\n",
    "    \n",
    "   - Qualitative data: count occurences of a class\n",
    "        - Pie chart, bar graph, pareto diagram\n",
    "   - Quantitative data: possible to group values in intervals\n",
    "       - dot plot, steam-and-leaf display, histogram"
   ]
  },
  {
   "cell_type": "markdown",
   "metadata": {
    "deletable": true,
    "editable": true
   },
   "source": [
    "## Measures for center\n",
    "**Mean**: \n",
    "\n",
    "$$\\bar{x}=\\frac{1}{n}\\sum_i^n x_{i}$$\n",
    "\n",
    "**Median** :(Mean of) the middle number(s) when in ascending order. \n",
    "\n",
    "**Mode**: Most frequent measurment \n",
    "\n",
    "## Measuring variation:\n",
    "\n",
    "**Range**:\n",
    "\n",
    "$r $: Largest - Smallest value\n",
    "\n",
    "**Variance**:\n",
    "\n",
    "$$s^{2} = \\frac{\\sum_i^n(x_i-\\overline{x})^2}{n-1}$$\n",
    "\n",
    "**Standard deviation**:\n",
    "\n",
    "\n",
    "$$s=\\sqrt{s^2}$$\n"
   ]
  },
  {
   "cell_type": "code",
   "execution_count": 82,
   "metadata": {
    "collapsed": false,
    "deletable": true,
    "editable": true
   },
   "outputs": [],
   "source": [
    "%matplotlib inline\n",
    "\n",
    "import numpy as np\n",
    "import scipy as sp\n",
    "# from matplotlib import pyplot \n",
    "import matplotlib.pyplot as plt\n",
    "\n",
    "\n"
   ]
  },
  {
   "cell_type": "code",
   "execution_count": 71,
   "metadata": {
    "collapsed": false,
    "deletable": true,
    "editable": true
   },
   "outputs": [
    {
     "data": {
      "text/plain": [
       "<matplotlib.text.Text at 0x7f79b67f0410>"
      ]
     },
     "execution_count": 71,
     "metadata": {},
     "output_type": "execute_result"
    },
    {
     "data": {
      "image/png": "[encoded data removed]",
      "text/plain": [
       "<matplotlib.figure.Figure at 0x7f79b69f5790>"
      ]
     },
     "metadata": {},
     "output_type": "display_data"
    }
   ],
   "source": [
    "plt.figure(figsize=(9,9))\n",
    "\n",
    "dataSet_218a = np.random.normal(size=1000)\n",
    "plt.subplot(4, 2, 1)\n",
    "plt.hist(dataSet_218a)\n",
    "plt.title(\"Normal (random) Distribution\")\n",
    "\n",
    "plt.subplot(4, 2, 2)\n",
    "dataSet_218b = np.random.uniform(size=1000)\n",
    "plt.hist(dataSet_218b)\n",
    "plt.title(\"Uniform (random) Distribution\")\n",
    "\n",
    "# rnd = np.random.choice(np.arange(1, 7), p=[0.2, 0.21, 0.18, 0.0, 0.21, 0.2])\n",
    "# plt.hist(rnd)\n",
    "\n",
    "# This is just all the values plotted, to illustarte the case, we need to plot\n",
    "# the probability of the distribtuion (Relative Frequency of occuried values)\n"
   ]
  },
  {
   "cell_type": "code",
   "execution_count": 2,
   "metadata": {
    "collapsed": false,
    "deletable": true,
    "editable": true
   },
   "outputs": [
    {
     "ename": "NameError",
     "evalue": "name 'np' is not defined",
     "output_type": "error",
     "traceback": [
      "\u001b[0;31m---------------------------------------------------------------------------\u001b[0m",
      "\u001b[0;31mNameError\u001b[0m                                 Traceback (most recent call last)",
      "\u001b[0;32m<ipython-input-2-690dd93868e4>\u001b[0m in \u001b[0;36m<module>\u001b[0;34m()\u001b[0m\n\u001b[1;32m      2\u001b[0m \u001b[0mN\u001b[0m \u001b[0;34m=\u001b[0m \u001b[0;36m1000\u001b[0m\u001b[0;34m\u001b[0m\u001b[0m\n\u001b[1;32m      3\u001b[0m \u001b[0mn\u001b[0m \u001b[0;34m=\u001b[0m \u001b[0mN\u001b[0m\u001b[0;34m/\u001b[0m\u001b[0;36m10\u001b[0m\u001b[0;34m\u001b[0m\u001b[0m\n\u001b[0;32m----> 4\u001b[0;31m \u001b[0ms\u001b[0m \u001b[0;34m=\u001b[0m \u001b[0mnp\u001b[0m\u001b[0;34m.\u001b[0m\u001b[0mrandom\u001b[0m\u001b[0;34m.\u001b[0m\u001b[0mnormal\u001b[0m\u001b[0;34m(\u001b[0m\u001b[0msize\u001b[0m\u001b[0;34m=\u001b[0m\u001b[0mN\u001b[0m\u001b[0;34m)\u001b[0m   \u001b[0;31m# generate your data sample with N elements\u001b[0m\u001b[0;34m\u001b[0m\u001b[0m\n\u001b[0m\u001b[1;32m      5\u001b[0m \u001b[0mp\u001b[0m\u001b[0;34m,\u001b[0m \u001b[0mx\u001b[0m \u001b[0;34m=\u001b[0m \u001b[0mnp\u001b[0m\u001b[0;34m.\u001b[0m\u001b[0mhistogram\u001b[0m\u001b[0;34m(\u001b[0m\u001b[0ms\u001b[0m\u001b[0;34m,\u001b[0m \u001b[0mbins\u001b[0m\u001b[0;34m=\u001b[0m\u001b[0mn\u001b[0m\u001b[0;34m)\u001b[0m \u001b[0;31m# bin it into n = N/10 bins\u001b[0m\u001b[0;34m\u001b[0m\u001b[0m\n\u001b[1;32m      6\u001b[0m \u001b[0mx\u001b[0m \u001b[0;34m=\u001b[0m \u001b[0mx\u001b[0m\u001b[0;34m[\u001b[0m\u001b[0;34m:\u001b[0m\u001b[0;34m-\u001b[0m\u001b[0;36m1\u001b[0m\u001b[0;34m]\u001b[0m \u001b[0;34m+\u001b[0m \u001b[0;34m(\u001b[0m\u001b[0mx\u001b[0m\u001b[0;34m[\u001b[0m\u001b[0;36m1\u001b[0m\u001b[0;34m]\u001b[0m \u001b[0;34m-\u001b[0m \u001b[0mx\u001b[0m\u001b[0;34m[\u001b[0m\u001b[0;36m0\u001b[0m\u001b[0;34m]\u001b[0m\u001b[0;34m)\u001b[0m\u001b[0;34m/\u001b[0m\u001b[0;36m2\u001b[0m   \u001b[0;31m# convert bin edges to centers\u001b[0m\u001b[0;34m\u001b[0m\u001b[0m\n",
      "\u001b[0;31mNameError\u001b[0m: name 'np' is not defined"
     ]
    }
   ],
   "source": [
    "from scipy.interpolate import UnivariateSpline\n",
    "N = 1000\n",
    "n = N/10\n",
    "s = np.random.normal(size=N)   # generate your data sample with N elements\n",
    "p, x = np.histogram(s, bins=n) # bin it into n = N/10 bins\n",
    "x = x[:-1] + (x[1] - x[0])/2   # convert bin edges to centers\n",
    "f = UnivariateSpline(x, p, s=n)\n",
    "plt.plot(x, f(x))\n",
    "plt.show()\n",
    "\n",
    "def my_dist(x):\n",
    "    return np.exp(-x ** 2)\n",
    "\n",
    "x = np.arange(-100, 100)\n",
    "p = my_dist(x)\n",
    "plt.plot(x, p)\n",
    "\n",
    "plt.show()"
   ]
  },
  {
   "cell_type": "code",
   "execution_count": 75,
   "metadata": {
    "collapsed": false,
    "deletable": true,
    "editable": true
   },
   "outputs": [
    {
     "data": {
      "text/plain": [
       "[<matplotlib.lines.Line2D at 0x7f79b65cf950>]"
      ]
     },
     "execution_count": 75,
     "metadata": {},
     "output_type": "execute_result"
    },
    {
     "data": {
      "image/png": "[encoded data removed]",
      "text/plain": [
       "<matplotlib.figure.Figure at 0x7f79b6717110>"
      ]
     },
     "metadata": {},
     "output_type": "display_data"
    }
   ],
   "source": [
    "# Probability of Random distribution\n",
    "x = np.random.randn(10000)\n",
    "\n",
    "nbins = 20\n",
    "\n",
    "n, bins = np.histogram(x, nbins, density=1)\n",
    "pdfx = np.zeros(n.size)\n",
    "pdfy = np.zeros(n.size)\n",
    "for k in range(n.size):\n",
    "    pdfx[k] = 0.5*(bins[k]+bins[k+1])\n",
    "    pdfy[k] = n[k]\n",
    "\n",
    "plt.plot(pdfx, pdfy)"
   ]
  },
  {
   "cell_type": "code",
   "execution_count": 81,
   "metadata": {
    "collapsed": false,
    "deletable": true,
    "editable": true
   },
   "outputs": [
    {
     "data": {
      "text/plain": [
       "3.0"
      ]
     },
     "execution_count": 81,
     "metadata": {},
     "output_type": "execute_result"
    }
   ],
   "source": [
    "m1 = [1,2,3,4,5]\n",
    "m2 = [2,3,3,3,4]\n",
    "\n",
    "np.mean(m1)\n",
    "np.mean(m2)"
   ]
  },
  {
   "cell_type": "markdown",
   "metadata": {
    "deletable": true,
    "editable": true
   },
   "source": [
    "## Percentiles and Quartiles\n",
    "\n",
    "__p-th percentile:__ \n",
    "     \n",
    "_The value for which at least p% of the observations are smaller than that value._\n",
    "\n",
    "How to compute:\n",
    "\n",
    "   -    $k = \\frac{p}{100}n$\n",
    "   -    $l = [k]$ (_ rounded up k to the nearest integer._ )\n",
    "\n",
    "   -    $\\begin{cases}x_{(l),} & if l\\neq k,\\\\\\frac{x_{k} + x_{k+1}}{2}, & if l = k\\end{cases}$\n",
    "   \n",
    "   \n",
    "** Lower and Upper Quartiles**:\n",
    "    \n",
    "   - $Q_L$: 25th percentile, $M$: 50th percentile, $Q_U$: 75th percentile\n",
    "\n",
    "** Range**: Larget - Smallest value\n",
    "** Interquartile Range (IRQ)**: $Q_U - Q_L$"
   ]
  },
  {
   "cell_type": "markdown",
   "metadata": {
    "deletable": true,
    "editable": true
   },
   "source": [
    "## Percentiles and Quartiles"
   ]
  },
  {
   "cell_type": "markdown",
   "metadata": {
    "deletable": true,
    "editable": true
   },
   "source": [
    "p-th percentile:\n",
    "\n",
    "k = $ \\frac{p}{100}n, l = [k] $  \n",
    "\n",
    "\n",
    "$$p^{th} percentile = \\begin{cases}x_{l}, & if \\neq k\\\\\\frac{x_k + x_{k+1}}{2} & if = k\\end{cases}$$"
   ]
  },
  {
   "cell_type": "markdown",
   "metadata": {
    "deletable": true,
    "editable": true
   },
   "source": [
    "### Chebyrshev's Rule\n",
    "\n",
    "- In any sample we have **Chebyshev's rule**:\n",
    "\n",
    "The interval $k - ks, x + ks)$ contains at least $(1 - \\frac{1}{k^2} * 100 ) $% of the observations.\n",
    "\n",
    "- If the histogarm of a sample is **mound shaped** we can apply the empirical rule:\n",
    "\n",
    "| Interval | Empirical rule  | Chebyshev  |   \n",
    "|----------|-----------------|-----------------|\n",
    "| ( $\\bar{x}-s$, $\\bar{x}+s$) | 68%   | $\\geq$  0%   |   \n",
    "| ( $\\bar{2x}-s$, $\\bar{2x}+s$) | 95%   |  $\\geq$ 75% |\n",
    "| ( $\\bar{3x}-s$, $\\bar{3x}+s$) | 99.7% | $\\geq$ 89%  |"
   ]
  },
  {
   "cell_type": "markdown",
   "metadata": {
    "deletable": true,
    "editable": true
   },
   "source": [
    "## Number of measurements in a certain interval"
   ]
  },
  {
   "cell_type": "markdown",
   "metadata": {
    "deletable": true,
    "editable": true
   },
   "source": [
    "Z-Score of an observation $x$ is \n",
    "\n",
    "$$ z = \\frac{x-\\overline{x}}{s} $$\n",
    "\n",
    "_The number of standard deviations smaller or larger than the mean_.\n",
    "\n",
    "outlier if ouside interval $( \\overline{x}-3s, \\overline{x} + 3s )$ interval or \n",
    "- Outside ($Q_L - 1.5 IQR, Q_U + 1.5 IQR$)"
   ]
  },
  {
   "cell_type": "markdown",
   "metadata": {
    "deletable": true,
    "editable": true
   },
   "source": [
    "### Random Variables"
   ]
  },
  {
   "cell_type": "code",
   "execution_count": 3,
   "metadata": {
    "collapsed": false,
    "deletable": true,
    "editable": true
   },
   "outputs": [
    {
     "data": {
      "text/plain": [
       "defaultdict(list,\n",
       "            {2: [(1, 1)],\n",
       "             3: [(2, 1), (1, 2)],\n",
       "             4: [(1, 3), (2, 2), (3, 1)],\n",
       "             5: [(4, 1), (3, 2), (1, 4), (2, 3)],\n",
       "             6: [(5, 1), (3, 3), (1, 5), (4, 2), (2, 4)],\n",
       "             7: [(1, 6), (2, 5), (5, 2), (6, 1), (4, 3), (3, 4)],\n",
       "             8: [(6, 2), (4, 4), (5, 3), (2, 6), (3, 5)],\n",
       "             9: [(5, 4), (6, 3), (3, 6), (4, 5)],\n",
       "             10: [(6, 4), (5, 5), (4, 6)],\n",
       "             11: [(5, 6), (6, 5)],\n",
       "             12: [(6, 6)]})"
      ]
     },
     "execution_count": 3,
     "metadata": {},
     "output_type": "execute_result"
    }
   ],
   "source": [
    "from collections import defaultdict\n",
    "dinv = defaultdict(list)\n",
    "\n",
    "d = { (i, j) : i+j for i in range(1,7) for j in range(1,7)}\n",
    "\n",
    "for i,j in d.iteritems():\n",
    "    dinv[j].append(i)\n",
    "    \n",
    "dinv\n",
    "    "
   ]
  },
  {
   "cell_type": "code",
   "execution_count": 4,
   "metadata": {
    "collapsed": false,
    "deletable": true,
    "editable": true
   },
   "outputs": [
    {
     "data": {
      "text/plain": [
       "{2: 0.027777777777777776,\n",
       " 3: 0.05555555555555555,\n",
       " 4: 0.08333333333333333,\n",
       " 5: 0.1111111111111111,\n",
       " 6: 0.1388888888888889,\n",
       " 7: 0.16666666666666666,\n",
       " 8: 0.1388888888888889,\n",
       " 9: 0.1111111111111111,\n",
       " 10: 0.08333333333333333,\n",
       " 11: 0.05555555555555555,\n",
       " 12: 0.027777777777777776}"
      ]
     },
     "execution_count": 4,
     "metadata": {},
     "output_type": "execute_result"
    }
   ],
   "source": [
    "X={i:len(j)/36. for i,j in dinv.iteritems() }\n",
    "X"
   ]
  },
  {
   "cell_type": "code",
   "execution_count": 3,
   "metadata": {
    "collapsed": false,
    "deletable": true,
    "editable": true
   },
   "outputs": [],
   "source": [
    "#Data Sets\n",
    "a = np.array([[1, 2], [3, 4], [5,6], [7,8], [9, 10]])"
   ]
  },
  {
   "cell_type": "code",
   "execution_count": 6,
   "metadata": {
    "collapsed": false,
    "deletable": true,
    "editable": true
   },
   "outputs": [
    {
     "data": {
      "text/plain": [
       "5.5"
      ]
     },
     "execution_count": 6,
     "metadata": {},
     "output_type": "execute_result"
    }
   ],
   "source": [
    "np.median(a)\n",
    "# np.mod(a)\n",
    "# np.mean(a, dtype=np.float64)"
   ]
  },
  {
   "cell_type": "markdown",
   "metadata": {
    "collapsed": false,
    "deletable": true,
    "editable": true
   },
   "source": [
    "## np.std(a)"
   ]
  },
  {
   "cell_type": "code",
   "execution_count": null,
   "metadata": {
    "collapsed": true,
    "deletable": true,
    "editable": true
   },
   "outputs": [],
   "source": [
    "def median(series):\n",
    "    length = len(series)\n",
    "    index = length // 2\n",
    "    left, right = series[index - 1], series[index]\n",
    "    if length % 1:\n",
    "        return right\n",
    "    else:\n",
    "        return (right + left) / 2"
   ]
  },
  {
   "cell_type": "code",
   "execution_count": 19,
   "metadata": {
    "collapsed": false,
    "deletable": true,
    "editable": true
   },
   "outputs": [
    {
     "data": {
      "text/plain": [
       "0.54999924"
      ]
     },
     "execution_count": 19,
     "metadata": {},
     "output_type": "execute_result"
    }
   ],
   "source": [
    "a = np.zeros((2, 512*512), dtype=np.float32)\n",
    "a[0, :] = 1.0\n",
    "a[1, :] = 0.1\n",
    "np.mean(a)"
   ]
  },
  {
   "cell_type": "code",
   "execution_count": 12,
   "metadata": {
    "collapsed": false,
    "deletable": true,
    "editable": true
   },
   "outputs": [],
   "source": []
  },
  {
   "cell_type": "code",
   "execution_count": 13,
   "metadata": {
    "collapsed": true,
    "deletable": true,
    "editable": true
   },
   "outputs": [],
   "source": [
    "from fractions import Fraction\n",
    "\n",
    "def P(event, space):\n",
    "    \"\"\n",
    "    return Fraction(len(event & space),\n",
    "                   len(space))\n",
    "\n"
   ]
  },
  {
   "cell_type": "code",
   "execution_count": 14,
   "metadata": {
    "collapsed": false,
    "deletable": true,
    "editable": true
   },
   "outputs": [
    {
     "ename": "TypeError",
     "evalue": "unsupported operand type(s) for /: 'set' and 'int'",
     "output_type": "error",
     "traceback": [
      "\u001b[0;31m---------------------------------------------------------------------------\u001b[0m",
      "\u001b[0;31mTypeError\u001b[0m                                 Traceback (most recent call last)",
      "\u001b[0;32m<ipython-input-14-edabf7d24081>\u001b[0m in \u001b[0;36m<module>\u001b[0;34m()\u001b[0m\n\u001b[1;32m      4\u001b[0m \u001b[0;31m# P(even,Dice)\u001b[0m\u001b[0;34m\u001b[0m\u001b[0;34m\u001b[0m\u001b[0m\n\u001b[1;32m      5\u001b[0m \u001b[0;31m# median(Dice\u001b[0m\u001b[0;34m\u001b[0m\u001b[0;34m\u001b[0m\u001b[0m\n\u001b[0;32m----> 6\u001b[0;31m \u001b[0msp\u001b[0m\u001b[0;34m.\u001b[0m\u001b[0mmean\u001b[0m\u001b[0;34m(\u001b[0m\u001b[0mDice\u001b[0m\u001b[0;34m)\u001b[0m\u001b[0;34m\u001b[0m\u001b[0m\n\u001b[0m",
      "\u001b[0;32m/usr/local/lib/python2.7/dist-packages/numpy/core/fromnumeric.pyc\u001b[0m in \u001b[0;36mmean\u001b[0;34m(a, axis, dtype, out, keepdims)\u001b[0m\n\u001b[1;32m   2725\u001b[0m \u001b[0;34m\u001b[0m\u001b[0m\n\u001b[1;32m   2726\u001b[0m     return _methods._mean(a, axis=axis, dtype=dtype,\n\u001b[0;32m-> 2727\u001b[0;31m                             out=out, keepdims=keepdims)\n\u001b[0m\u001b[1;32m   2728\u001b[0m \u001b[0;34m\u001b[0m\u001b[0m\n\u001b[1;32m   2729\u001b[0m \u001b[0;32mdef\u001b[0m \u001b[0mstd\u001b[0m\u001b[0;34m(\u001b[0m\u001b[0ma\u001b[0m\u001b[0;34m,\u001b[0m \u001b[0maxis\u001b[0m\u001b[0;34m=\u001b[0m\u001b[0mNone\u001b[0m\u001b[0;34m,\u001b[0m \u001b[0mdtype\u001b[0m\u001b[0;34m=\u001b[0m\u001b[0mNone\u001b[0m\u001b[0;34m,\u001b[0m \u001b[0mout\u001b[0m\u001b[0;34m=\u001b[0m\u001b[0mNone\u001b[0m\u001b[0;34m,\u001b[0m \u001b[0mddof\u001b[0m\u001b[0;34m=\u001b[0m\u001b[0;36m0\u001b[0m\u001b[0;34m,\u001b[0m \u001b[0mkeepdims\u001b[0m\u001b[0;34m=\u001b[0m\u001b[0mFalse\u001b[0m\u001b[0;34m)\u001b[0m\u001b[0;34m:\u001b[0m\u001b[0;34m\u001b[0m\u001b[0m\n",
      "\u001b[0;32m/usr/local/lib/python2.7/dist-packages/numpy/core/_methods.pyc\u001b[0m in \u001b[0;36m_mean\u001b[0;34m(a, axis, dtype, out, keepdims)\u001b[0m\n\u001b[1;32m     71\u001b[0m         \u001b[0mret\u001b[0m \u001b[0;34m=\u001b[0m \u001b[0mret\u001b[0m\u001b[0;34m.\u001b[0m\u001b[0mdtype\u001b[0m\u001b[0;34m.\u001b[0m\u001b[0mtype\u001b[0m\u001b[0;34m(\u001b[0m\u001b[0mret\u001b[0m \u001b[0;34m/\u001b[0m \u001b[0mrcount\u001b[0m\u001b[0;34m)\u001b[0m\u001b[0;34m\u001b[0m\u001b[0m\n\u001b[1;32m     72\u001b[0m     \u001b[0;32melse\u001b[0m\u001b[0;34m:\u001b[0m\u001b[0;34m\u001b[0m\u001b[0m\n\u001b[0;32m---> 73\u001b[0;31m         \u001b[0mret\u001b[0m \u001b[0;34m=\u001b[0m \u001b[0mret\u001b[0m \u001b[0;34m/\u001b[0m \u001b[0mrcount\u001b[0m\u001b[0;34m\u001b[0m\u001b[0m\n\u001b[0m\u001b[1;32m     74\u001b[0m \u001b[0;34m\u001b[0m\u001b[0m\n\u001b[1;32m     75\u001b[0m     \u001b[0;32mreturn\u001b[0m \u001b[0mret\u001b[0m\u001b[0;34m\u001b[0m\u001b[0m\n",
      "\u001b[0;31mTypeError\u001b[0m: unsupported operand type(s) for /: 'set' and 'int'"
     ]
    }
   ],
   "source": [
    "Dice = {1,2,3,4,5,6}\n",
    "even = {2,4,6}\n",
    "\n",
    "# P(even,Dice)\n",
    "# median(Dice\n",
    "sp.mean(Dice)"
   ]
  },
  {
   "cell_type": "code",
   "execution_count": 5,
   "metadata": {
    "collapsed": true,
    "deletable": true,
    "editable": true
   },
   "outputs": [],
   "source": [
    "# examples\n",
    "st_salaries = { 15,21,22,22,24,24,26,27,29,35,37,78 }"
   ]
  },
  {
   "cell_type": "code",
   "execution_count": null,
   "metadata": {
    "collapsed": true,
    "deletable": true,
    "editable": true
   },
   "outputs": [],
   "source": []
  }
 ],
 "metadata": {
  "kernelspec": {
   "display_name": "Python 2",
   "language": "python",
   "name": "python2"
  },
  "language_info": {
   "codemirror_mode": {
    "name": "ipython",
    "version": 2
   },
   "file_extension": ".py",
   "mimetype": "text/x-python",
   "name": "python",
   "nbconvert_exporter": "python",
   "pygments_lexer": "ipython2",
   "version": "2.7.6"
  }
 },
 "nbformat": 4,
 "nbformat_minor": 2
}
